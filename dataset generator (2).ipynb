{
 "cells": [
  {
   "cell_type": "code",
   "execution_count": 1,
   "id": "21b7b797-addf-4ceb-876e-6f01b4d1ab4b",
   "metadata": {},
   "outputs": [
    {
     "name": "stdout",
     "output_type": "stream",
     "text": [
      "Requirement already satisfied: pandas in c:\\users\\laksh gupta\\anaconda3\\lib\\site-packages (2.1.4)Note: you may need to restart the kernel to use updated packages.\n",
      "\n",
      "Requirement already satisfied: numpy in c:\\users\\laksh gupta\\anaconda3\\lib\\site-packages (1.26.4)\n",
      "Requirement already satisfied: faker in c:\\users\\laksh gupta\\anaconda3\\lib\\site-packages (36.1.1)\n",
      "Requirement already satisfied: python-dateutil>=2.8.2 in c:\\users\\laksh gupta\\anaconda3\\lib\\site-packages (from pandas) (2.8.2)\n",
      "Requirement already satisfied: pytz>=2020.1 in c:\\users\\laksh gupta\\anaconda3\\lib\\site-packages (from pandas) (2023.3.post1)\n",
      "Requirement already satisfied: tzdata>=2022.1 in c:\\users\\laksh gupta\\anaconda3\\lib\\site-packages (from pandas) (2023.3)\n",
      "Requirement already satisfied: six>=1.5 in c:\\users\\laksh gupta\\anaconda3\\lib\\site-packages (from python-dateutil>=2.8.2->pandas) (1.16.0)\n"
     ]
    }
   ],
   "source": [
    "pip install pandas numpy faker"
   ]
  },
  {
   "cell_type": "code",
   "execution_count": 3,
   "id": "5b728325-6b93-4c07-8510-c27ca81631e1",
   "metadata": {},
   "outputs": [
    {
     "name": "stdout",
     "output_type": "stream",
     "text": [
      "Dataset generated and saved as 'indian_ecommerce_dataset.csv'\n"
     ]
    }
   ],
   "source": [
    "import pandas as pd\n",
    "import numpy as np\n",
    "import random\n",
    "from faker import Faker\n",
    "\n",
    "fake = Faker('en_IN')\n",
    "\n",
    "indian_items = {\n",
    "    \"StockCode\": [f\"IN{i:03d}\" for i in range(1, 51)], \n",
    "    \"Description\": [\n",
    "        \"Handmade Jute Bag\", \"Traditional Silk Saree\", \"Brass Diya Set\", \"Wooden Spice Box\", \"Handcrafted Jewelry\",\n",
    "        \"Ayurvedic Herbal Tea\", \"Indian Spices Pack\", \"Handwoven Cotton Kurta\", \"Clay Pot Set\", \"Bamboo Basket\",\n",
    "        \"Pashmina Shawl\", \"Marble Coaster Set\", \"Handmade Paper Notebook\", \"Brass Elephant Statue\", \"Jute Rug\",\n",
    "        \"Copper Water Bottle\", \"Terracotta Wall Hanging\", \"Silk Cushion Cover\", \"Wooden Chess Set\", \"Handmade Pottery Mug\",\n",
    "        \"Bamboo Wind Chime\", \"Silver Anklet\", \"Leather Wallet\", \"Handmade Soap Set\", \"Cotton Table Runner\",\n",
    "        \"Brass Wind Chime\", \"Wooden Serving Tray\", \"Handwoven Shawl\", \"Ceramic Tea Set\", \"Bamboo Lamp\",\n",
    "        \"Handmade Dreamcatcher\", \"Silver Earrings\", \"Leather Belt\", \"Herbal Face Pack\", \"Cotton Bedspread\",\n",
    "        \"Brass Candle Holder\", \"Wooden Photo Frame\", \"Silk Scarf\", \"Ceramic Bowl Set\", \"Bamboo Cutlery Set\",\n",
    "        \"Handmade Wall Art\", \"Silver Pendant\", \"Leather Bag\", \"Herbal Hair Oil\", \"Cotton Curtains\",\n",
    "        \"Brass Bell\", \"Wooden Jewelry Box\", \"Silk Tie\", \"Ceramic Vase\", \"Bamboo Plant Stand\"\n",
    "    ],\n",
    "    \"Price\": [random.randint(200, 5000) for _ in range(50)]  \n",
    "}\n",
    "\n",
    "num_entries = 50000\n",
    "\n",
    "invoices = []\n",
    "stock_codes = []\n",
    "descriptions = []\n",
    "quantities = []\n",
    "invoice_dates = []\n",
    "prices = []\n",
    "customer_ids = []\n",
    "countries = []\n",
    "\n",
    "for _ in range(num_entries):\n",
    "    invoice = fake.unique.random_number(digits=6)  \n",
    "    customer_id = fake.unique.random_number(digits=5)  \n",
    "    country = \"India\"  \n",
    "\n",
    "    num_items = random.randint(1, 5)\n",
    "\n",
    "    selected_items = random.sample(indian_items[\"StockCode\"], num_items)\n",
    "\n",
    "    for stock_code in selected_items:\n",
    "        description = indian_items[\"Description\"][indian_items[\"StockCode\"].index(stock_code)]\n",
    "        quantity = random.randint(1, 5)  \n",
    "        invoice_date = fake.date_between(start_date='-1y', end_date='today')  \n",
    "        price = indian_items[\"Price\"][indian_items[\"StockCode\"].index(stock_code)]  \n",
    "\n",
    "        \n",
    "        if random.random() < 0.05:  \n",
    "            description = np.nan\n",
    "        if random.random() < 0.03:  \n",
    "            quantity = np.nan\n",
    "        if random.random() < 0.02:  \n",
    "            price = np.nan\n",
    "        if random.random() < 0.01:  \n",
    "            customer_id = np.nan\n",
    "\n",
    "        invoices.append(invoice)\n",
    "        stock_codes.append(stock_code)\n",
    "        descriptions.append(description)\n",
    "        quantities.append(quantity)\n",
    "        invoice_dates.append(invoice_date)\n",
    "        prices.append(price)\n",
    "        customer_ids.append(customer_id)\n",
    "        countries.append(country)\n",
    "\n",
    "\n",
    "data = {\n",
    "    \"Invoice\": invoices,\n",
    "    \"StockCode\": stock_codes,\n",
    "    \"Description\": descriptions,\n",
    "    \"Quantity\": quantities,\n",
    "    \"InvoiceDate\": invoice_dates,\n",
    "    \"Price\": prices,\n",
    "    \"CustomerID\": customer_ids,\n",
    "    \"Country\": countries\n",
    "}\n",
    "\n",
    "df = pd.DataFrame(data)\n",
    "\n",
    "\n",
    "df.to_csv(\"indian_ecommerce_dataset.csv\", index=False)\n",
    "\n",
    "print(\"Dataset generated and saved as 'indian_ecommerce_dataset.csv'\")"
   ]
  },
  {
   "cell_type": "code",
   "execution_count": null,
   "id": "086e67ef-62a1-4421-92a7-4e3141ca6549",
   "metadata": {},
   "outputs": [],
   "source": []
  }
 ],
 "metadata": {
  "kernelspec": {
   "display_name": "Python 3 (ipykernel)",
   "language": "python",
   "name": "python3"
  },
  "language_info": {
   "codemirror_mode": {
    "name": "ipython",
    "version": 3
   },
   "file_extension": ".py",
   "mimetype": "text/x-python",
   "name": "python",
   "nbconvert_exporter": "python",
   "pygments_lexer": "ipython3",
   "version": "3.11.7"
  }
 },
 "nbformat": 4,
 "nbformat_minor": 5
}
